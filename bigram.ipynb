{
  "cells": [
    {
      "cell_type": "markdown",
      "metadata": {
        "id": "view-in-github",
        "colab_type": "text"
      },
      "source": [
        "<a href=\"https://colab.research.google.com/github/Chiranjeevi2001/introToLLMs/blob/main/bigram.ipynb\" target=\"_parent\"><img src=\"https://colab.research.google.com/assets/colab-badge.svg\" alt=\"Open In Colab\"/></a>"
      ]
    },
    {
      "cell_type": "code",
      "execution_count": null,
      "id": "da686ba2",
      "metadata": {
        "id": "da686ba2",
        "outputId": "ae91c35d-bdcb-414d-f308-c6cdd859eb9e"
      },
      "outputs": [
        {
          "name": "stdout",
          "output_type": "stream",
          "text": [
            "cuda\n"
          ]
        }
      ],
      "source": [
        "import torch\n",
        "device = 'cuda' if torch.cuda.is_available() else 'cpu'\n",
        "print(device)\n",
        "block_size = 8 # the number of tokens we are processing\n",
        "batch_size = 4 # how many blocks are we processing at a time"
      ]
    },
    {
      "cell_type": "code",
      "execution_count": null,
      "id": "3ecd5d9b",
      "metadata": {
        "id": "3ecd5d9b",
        "outputId": "9e5296eb-539e-429a-cebe-8b65a9770bcb"
      },
      "outputs": [
        {
          "name": "stdout",
          "output_type": "stream",
          "text": [
            "['\\n', ' ', '!', '\"', '&', \"'\", '(', ')', '*', ',', '-', '.', '0', '1', '2', '3', '4', '5', '6', '7', '8', '9', ':', ';', '?', 'A', 'B', 'C', 'D', 'E', 'F', 'G', 'H', 'I', 'J', 'K', 'L', 'M', 'N', 'O', 'P', 'Q', 'R', 'S', 'T', 'U', 'V', 'W', 'X', 'Y', 'Z', '[', ']', '_', 'a', 'b', 'c', 'd', 'e', 'f', 'g', 'h', 'i', 'j', 'k', 'l', 'm', 'n', 'o', 'p', 'q', 'r', 's', 't', 'u', 'v', 'w', 'x', 'y', 'z', '\\ufeff']\n"
          ]
        }
      ],
      "source": [
        "with open('wizard_of_oz.txt','r',encoding='utf-8')as f:\n",
        "    text = f.read()\n",
        "chars = sorted(set(text))\n",
        "print(chars)"
      ]
    },
    {
      "cell_type": "code",
      "execution_count": null,
      "id": "f52110cd",
      "metadata": {
        "id": "f52110cd",
        "outputId": "b5f11948-a4dc-4512-f6e3-992b9613b822"
      },
      "outputs": [
        {
          "name": "stdout",
          "output_type": "stream",
          "text": [
            "[61, 58, 65, 65, 68]\n",
            "['h', 'o', 'r', 's', 'e']\n"
          ]
        }
      ],
      "source": [
        "## tokenize the characters (character level tokenizer)\n",
        "string_to_int = {ch:i for i, ch in enumerate(chars) }\n",
        "int_to_string = {i:ch for i, ch in enumerate(chars) }\n",
        "encode = lambda s: [string_to_int[c] for c in s]\n",
        "decode = lambda l: [int_to_string[i] for i in l]\n",
        "\n",
        "print(encode('hello'))\n",
        "print(decode(encode('horse')))"
      ]
    },
    {
      "cell_type": "code",
      "execution_count": null,
      "id": "4ea53244",
      "metadata": {
        "id": "4ea53244",
        "outputId": "e19fc514-a3c7-4be1-e762-6b9246e5bd09"
      },
      "outputs": [
        {
          "name": "stdout",
          "output_type": "stream",
          "text": [
            "tensor([80,  0,  1,  1, 28, 39, 42, 39, 44, 32, 49,  1, 25, 38, 28,  1, 44, 32,\n",
            "        29,  1, 47, 33, 50, 25, 42, 28,  1, 33, 38,  1, 39, 50,  0,  0,  1,  1,\n",
            "        26, 49,  0,  0,  1,  1, 36, 11,  1, 30, 42, 25, 38, 35,  1, 26, 25, 45,\n",
            "        37,  0,  0,  1,  1, 25, 45, 44, 32, 39, 42,  1, 39, 30,  1, 44, 32, 29,\n",
            "         1, 47, 33, 50, 25, 42, 28,  1, 39, 30,  1, 39, 50,  9,  1, 44, 32, 29,\n",
            "         1, 36, 25, 38, 28,  1, 39, 30,  1, 39])\n"
          ]
        }
      ],
      "source": [
        "# create the dataset\n",
        "data = torch.tensor(encode(text), dtype=torch.long)\n",
        "print(data[:100])"
      ]
    },
    {
      "cell_type": "code",
      "execution_count": null,
      "id": "8ccb6ce3",
      "metadata": {
        "id": "8ccb6ce3",
        "outputId": "c76e169c-be25-4485-a9b6-e379b5e456fb"
      },
      "outputs": [
        {
          "data": {
            "text/plain": [
              "(185850, 46463)"
            ]
          },
          "execution_count": 13,
          "metadata": {},
          "output_type": "execute_result"
        }
      ],
      "source": [
        "n = int(0.8 * len(data))\n",
        "train_data = data[:n]\n",
        "val_data = data[n:]\n",
        "len(train_data), len(val_data)"
      ]
    },
    {
      "cell_type": "code",
      "execution_count": null,
      "id": "954096ae",
      "metadata": {
        "id": "954096ae",
        "outputId": "0f528bec-73f0-4f5c-c0da-5d1054887572"
      },
      "outputs": [
        {
          "name": "stdout",
          "output_type": "stream",
          "text": [
            "When context: tensor([80])  the target: tensor(0)\n",
            "When context: tensor([80,  0])  the target: tensor(1)\n",
            "When context: tensor([80,  0,  1])  the target: tensor(1)\n",
            "When context: tensor([80,  0,  1,  1])  the target: tensor(28)\n",
            "When context: tensor([80,  0,  1,  1, 28])  the target: tensor(39)\n",
            "When context: tensor([80,  0,  1,  1, 28, 39])  the target: tensor(42)\n",
            "When context: tensor([80,  0,  1,  1, 28, 39, 42])  the target: tensor(39)\n",
            "When context: tensor([80,  0,  1,  1, 28, 39, 42, 39])  the target: tensor(44)\n"
          ]
        }
      ],
      "source": [
        "# defining blocksize and context\n",
        "\n",
        "x = train_data[:block_size]   # [5,65,78,89,12,16,17,18], 14\n",
        "y = train_data[1:block_size+1] # 5, [65,78,89,12,16,17,18,14]\n",
        "\n",
        "for t in range(block_size):\n",
        "    context = x[:t+1]\n",
        "    target = y[t]\n",
        "    print('When context:', context,\" the target:\", target)"
      ]
    },
    {
      "cell_type": "code",
      "execution_count": null,
      "id": "a2d76951",
      "metadata": {
        "id": "a2d76951"
      },
      "outputs": [],
      "source": []
    }
  ],
  "metadata": {
    "kernelspec": {
      "display_name": "CUDAgpt",
      "language": "python",
      "name": "cuda"
    },
    "language_info": {
      "codemirror_mode": {
        "name": "ipython",
        "version": 3
      },
      "file_extension": ".py",
      "mimetype": "text/x-python",
      "name": "python",
      "nbconvert_exporter": "python",
      "pygments_lexer": "ipython3",
      "version": "3.10.8"
    },
    "colab": {
      "provenance": [],
      "include_colab_link": true
    }
  },
  "nbformat": 4,
  "nbformat_minor": 5
}